{
  "nbformat": 4,
  "nbformat_minor": 0,
  "metadata": {
    "colab": {
      "provenance": []
    },
    "kernelspec": {
      "name": "python3",
      "display_name": "Python 3"
    },
    "language_info": {
      "name": "python"
    }
  },
  "cells": [
    {
      "cell_type": "markdown",
      "source": [
        "**Problem Statement: Analysing two data set IPL Ball By Ball of year 2021 and 2022 for the purpose of determining the chances of the team to win **"
      ],
      "metadata": {
        "id": "60FO9zRfkjdm"
      }
    },
    {
      "cell_type": "markdown",
      "source": [
        "**Mounting Drive with Colab**"
      ],
      "metadata": {
        "id": "EuIuaewtF7_c"
      }
    },
    {
      "cell_type": "code",
      "execution_count": 1,
      "metadata": {
        "colab": {
          "base_uri": "https://localhost:8080/"
        },
        "id": "Fm5zC6GXEtjG",
        "outputId": "b32d0127-af81-478a-f483-338e750a8af1"
      },
      "outputs": [
        {
          "output_type": "stream",
          "name": "stdout",
          "text": [
            "Drive already mounted at /content/drive; to attempt to forcibly remount, call drive.mount(\"/content/drive\", force_remount=True).\n"
          ]
        }
      ],
      "source": [
        "from google.colab import drive\n",
        "drive.mount('/content/drive')\n",
        "\n"
      ]
    },
    {
      "cell_type": "code",
      "source": [],
      "metadata": {
        "id": "Px3IR5M1fWu7"
      },
      "execution_count": 1,
      "outputs": []
    },
    {
      "cell_type": "markdown",
      "source": [
        "Importing Libraries "
      ],
      "metadata": {
        "id": "P_ja8vvUGNwz"
      }
    },
    {
      "cell_type": "markdown",
      "source": [
        "**Problem Statement**:\n",
        "We are playing with some statistical data fromm the IMDB website of multiple datasets."
      ],
      "metadata": {
        "id": "6JN_yX4n6nd8"
      }
    },
    {
      "cell_type": "code",
      "source": [
        "import pandas as pd                               # For data manipulation and analysis.\n",
        "import seaborn as sns                             # Provides a high level interface for drawing attractive and informative statistical graphics.\n",
        "from statistics import mean, median, mode, stdev  # To calculate mathematical statistics of numeric data.\n",
        "import matplotlib.pyplot as plt                   # Plotting library for Python programming language and it's numerical mathematics extension NumPy.\n",
        "import numpy as np                                # Implemennts milti-dimensional array and matrices.\n",
        "import math as m                                  # This module provides access to the mathematical functions.\n",
        "import plotly.express as px                       # Functions that can create entire figures at once.\n",
        "%matplotlib inline"
      ],
      "metadata": {
        "id": "hAwT7mfoFS8M"
      },
      "execution_count": 2,
      "outputs": []
    },
    {
      "cell_type": "code",
      "source": [
        "import os\n",
        "path = 'imdb.py'\n",
        "\n",
        "import imdb as im"
      ],
      "metadata": {
        "id": "cdQiNL2qMLJ-"
      },
      "execution_count": 3,
      "outputs": []
    },
    {
      "cell_type": "code",
      "source": [
        "imdb=pd.read_csv('imdb_top_1000.csv')\n"
      ],
      "metadata": {
        "id": "3NIicCesGiNd"
      },
      "execution_count": 4,
      "outputs": []
    },
    {
      "cell_type": "markdown",
      "source": [
        "**DataSet**"
      ],
      "metadata": {
        "id": "V0ZWxpt19Ji_"
      }
    },
    {
      "cell_type": "code",
      "source": [
        "imdb"
      ],
      "metadata": {
        "id": "8b_5viSga0yB",
        "colab": {
          "base_uri": "https://localhost:8080/",
          "height": 1000
        },
        "outputId": "8a1d2b0a-5098-428c-e428-020ef68643c3"
      },
      "execution_count": 5,
      "outputs": [
        {
          "output_type": "execute_result",
          "data": {
            "text/plain": [
              "                                           Poster_Link  \\\n",
              "0    https://m.media-amazon.com/images/M/MV5BMDFkYT...   \n",
              "1    https://m.media-amazon.com/images/M/MV5BM2MyNj...   \n",
              "2    https://m.media-amazon.com/images/M/MV5BMTMxNT...   \n",
              "3    https://m.media-amazon.com/images/M/MV5BMWMwMG...   \n",
              "4    https://m.media-amazon.com/images/M/MV5BMWU4N2...   \n",
              "..                                                 ...   \n",
              "995  https://m.media-amazon.com/images/M/MV5BNGEwMT...   \n",
              "996  https://m.media-amazon.com/images/M/MV5BODk3Yj...   \n",
              "997  https://m.media-amazon.com/images/M/MV5BM2U3Yz...   \n",
              "998  https://m.media-amazon.com/images/M/MV5BZTBmMj...   \n",
              "999  https://m.media-amazon.com/images/M/MV5BMTY5OD...   \n",
              "\n",
              "                 Series_Title Released_Year Certificate  Runtime  \\\n",
              "0    The Shawshank Redemption          1994           A  142 min   \n",
              "1               The Godfather          1972           A  175 min   \n",
              "2             The Dark Knight          2008          UA  152 min   \n",
              "3      The Godfather: Part II          1974           A  202 min   \n",
              "4                12 Angry Men          1957           U   96 min   \n",
              "..                        ...           ...         ...      ...   \n",
              "995    Breakfast at Tiffany's          1961           A  115 min   \n",
              "996                     Giant          1956           G  201 min   \n",
              "997     From Here to Eternity          1953      Passed  118 min   \n",
              "998                  Lifeboat          1944         NaN   97 min   \n",
              "999              The 39 Steps          1935         NaN   86 min   \n",
              "\n",
              "                        Genre  IMDB_Rating  \\\n",
              "0                       Drama          9.3   \n",
              "1                Crime, Drama          9.2   \n",
              "2        Action, Crime, Drama          9.0   \n",
              "3                Crime, Drama          9.0   \n",
              "4                Crime, Drama          9.0   \n",
              "..                        ...          ...   \n",
              "995    Comedy, Drama, Romance          7.6   \n",
              "996            Drama, Western          7.6   \n",
              "997       Drama, Romance, War          7.6   \n",
              "998                Drama, War          7.6   \n",
              "999  Crime, Mystery, Thriller          7.6   \n",
              "\n",
              "                                              Overview  Meta_score  \\\n",
              "0    Two imprisoned men bond over a number of years...        80.0   \n",
              "1    An organized crime dynasty's aging patriarch t...       100.0   \n",
              "2    When the menace known as the Joker wreaks havo...        84.0   \n",
              "3    The early life and career of Vito Corleone in ...        90.0   \n",
              "4    A jury holdout attempts to prevent a miscarria...        96.0   \n",
              "..                                                 ...         ...   \n",
              "995  A young New York socialite becomes interested ...        76.0   \n",
              "996  Sprawling epic covering the life of a Texas ca...        84.0   \n",
              "997  In Hawaii in 1941, a private is cruelly punish...        85.0   \n",
              "998  Several survivors of a torpedoed merchant ship...        78.0   \n",
              "999  A man in London tries to help a counter-espion...        93.0   \n",
              "\n",
              "                 Director              Star1              Star2  \\\n",
              "0          Frank Darabont        Tim Robbins     Morgan Freeman   \n",
              "1    Francis Ford Coppola      Marlon Brando          Al Pacino   \n",
              "2       Christopher Nolan     Christian Bale       Heath Ledger   \n",
              "3    Francis Ford Coppola          Al Pacino     Robert De Niro   \n",
              "4            Sidney Lumet        Henry Fonda        Lee J. Cobb   \n",
              "..                    ...                ...                ...   \n",
              "995         Blake Edwards     Audrey Hepburn     George Peppard   \n",
              "996        George Stevens   Elizabeth Taylor        Rock Hudson   \n",
              "997        Fred Zinnemann     Burt Lancaster   Montgomery Clift   \n",
              "998      Alfred Hitchcock  Tallulah Bankhead        John Hodiak   \n",
              "999      Alfred Hitchcock       Robert Donat  Madeleine Carroll   \n",
              "\n",
              "              Star3           Star4  No_of_Votes        Gross  \n",
              "0        Bob Gunton  William Sadler      2343110   28,341,469  \n",
              "1        James Caan    Diane Keaton      1620367  134,966,411  \n",
              "2     Aaron Eckhart   Michael Caine      2303232  534,858,444  \n",
              "3     Robert Duvall    Diane Keaton      1129952   57,300,000  \n",
              "4     Martin Balsam    John Fiedler       689845    4,360,000  \n",
              "..              ...             ...          ...          ...  \n",
              "995   Patricia Neal     Buddy Ebsen       166544          NaN  \n",
              "996      James Dean   Carroll Baker        34075          NaN  \n",
              "997    Deborah Kerr      Donna Reed        43374   30,500,000  \n",
              "998   Walter Slezak  William Bendix        26471          NaN  \n",
              "999  Lucie Mannheim  Godfrey Tearle        51853          NaN  \n",
              "\n",
              "[1000 rows x 16 columns]"
            ],
            "text/html": [
              "\n",
              "  <div id=\"df-59579ffc-fade-4182-9aad-31ff282d7a1f\">\n",
              "    <div class=\"colab-df-container\">\n",
              "      <div>\n",
              "<style scoped>\n",
              "    .dataframe tbody tr th:only-of-type {\n",
              "        vertical-align: middle;\n",
              "    }\n",
              "\n",
              "    .dataframe tbody tr th {\n",
              "        vertical-align: top;\n",
              "    }\n",
              "\n",
              "    .dataframe thead th {\n",
              "        text-align: right;\n",
              "    }\n",
              "</style>\n",
              "<table border=\"1\" class=\"dataframe\">\n",
              "  <thead>\n",
              "    <tr style=\"text-align: right;\">\n",
              "      <th></th>\n",
              "      <th>Poster_Link</th>\n",
              "      <th>Series_Title</th>\n",
              "      <th>Released_Year</th>\n",
              "      <th>Certificate</th>\n",
              "      <th>Runtime</th>\n",
              "      <th>Genre</th>\n",
              "      <th>IMDB_Rating</th>\n",
              "      <th>Overview</th>\n",
              "      <th>Meta_score</th>\n",
              "      <th>Director</th>\n",
              "      <th>Star1</th>\n",
              "      <th>Star2</th>\n",
              "      <th>Star3</th>\n",
              "      <th>Star4</th>\n",
              "      <th>No_of_Votes</th>\n",
              "      <th>Gross</th>\n",
              "    </tr>\n",
              "  </thead>\n",
              "  <tbody>\n",
              "    <tr>\n",
              "      <th>0</th>\n",
              "      <td>https://m.media-amazon.com/images/M/MV5BMDFkYT...</td>\n",
              "      <td>The Shawshank Redemption</td>\n",
              "      <td>1994</td>\n",
              "      <td>A</td>\n",
              "      <td>142 min</td>\n",
              "      <td>Drama</td>\n",
              "      <td>9.3</td>\n",
              "      <td>Two imprisoned men bond over a number of years...</td>\n",
              "      <td>80.0</td>\n",
              "      <td>Frank Darabont</td>\n",
              "      <td>Tim Robbins</td>\n",
              "      <td>Morgan Freeman</td>\n",
              "      <td>Bob Gunton</td>\n",
              "      <td>William Sadler</td>\n",
              "      <td>2343110</td>\n",
              "      <td>28,341,469</td>\n",
              "    </tr>\n",
              "    <tr>\n",
              "      <th>1</th>\n",
              "      <td>https://m.media-amazon.com/images/M/MV5BM2MyNj...</td>\n",
              "      <td>The Godfather</td>\n",
              "      <td>1972</td>\n",
              "      <td>A</td>\n",
              "      <td>175 min</td>\n",
              "      <td>Crime, Drama</td>\n",
              "      <td>9.2</td>\n",
              "      <td>An organized crime dynasty's aging patriarch t...</td>\n",
              "      <td>100.0</td>\n",
              "      <td>Francis Ford Coppola</td>\n",
              "      <td>Marlon Brando</td>\n",
              "      <td>Al Pacino</td>\n",
              "      <td>James Caan</td>\n",
              "      <td>Diane Keaton</td>\n",
              "      <td>1620367</td>\n",
              "      <td>134,966,411</td>\n",
              "    </tr>\n",
              "    <tr>\n",
              "      <th>2</th>\n",
              "      <td>https://m.media-amazon.com/images/M/MV5BMTMxNT...</td>\n",
              "      <td>The Dark Knight</td>\n",
              "      <td>2008</td>\n",
              "      <td>UA</td>\n",
              "      <td>152 min</td>\n",
              "      <td>Action, Crime, Drama</td>\n",
              "      <td>9.0</td>\n",
              "      <td>When the menace known as the Joker wreaks havo...</td>\n",
              "      <td>84.0</td>\n",
              "      <td>Christopher Nolan</td>\n",
              "      <td>Christian Bale</td>\n",
              "      <td>Heath Ledger</td>\n",
              "      <td>Aaron Eckhart</td>\n",
              "      <td>Michael Caine</td>\n",
              "      <td>2303232</td>\n",
              "      <td>534,858,444</td>\n",
              "    </tr>\n",
              "    <tr>\n",
              "      <th>3</th>\n",
              "      <td>https://m.media-amazon.com/images/M/MV5BMWMwMG...</td>\n",
              "      <td>The Godfather: Part II</td>\n",
              "      <td>1974</td>\n",
              "      <td>A</td>\n",
              "      <td>202 min</td>\n",
              "      <td>Crime, Drama</td>\n",
              "      <td>9.0</td>\n",
              "      <td>The early life and career of Vito Corleone in ...</td>\n",
              "      <td>90.0</td>\n",
              "      <td>Francis Ford Coppola</td>\n",
              "      <td>Al Pacino</td>\n",
              "      <td>Robert De Niro</td>\n",
              "      <td>Robert Duvall</td>\n",
              "      <td>Diane Keaton</td>\n",
              "      <td>1129952</td>\n",
              "      <td>57,300,000</td>\n",
              "    </tr>\n",
              "    <tr>\n",
              "      <th>4</th>\n",
              "      <td>https://m.media-amazon.com/images/M/MV5BMWU4N2...</td>\n",
              "      <td>12 Angry Men</td>\n",
              "      <td>1957</td>\n",
              "      <td>U</td>\n",
              "      <td>96 min</td>\n",
              "      <td>Crime, Drama</td>\n",
              "      <td>9.0</td>\n",
              "      <td>A jury holdout attempts to prevent a miscarria...</td>\n",
              "      <td>96.0</td>\n",
              "      <td>Sidney Lumet</td>\n",
              "      <td>Henry Fonda</td>\n",
              "      <td>Lee J. Cobb</td>\n",
              "      <td>Martin Balsam</td>\n",
              "      <td>John Fiedler</td>\n",
              "      <td>689845</td>\n",
              "      <td>4,360,000</td>\n",
              "    </tr>\n",
              "    <tr>\n",
              "      <th>...</th>\n",
              "      <td>...</td>\n",
              "      <td>...</td>\n",
              "      <td>...</td>\n",
              "      <td>...</td>\n",
              "      <td>...</td>\n",
              "      <td>...</td>\n",
              "      <td>...</td>\n",
              "      <td>...</td>\n",
              "      <td>...</td>\n",
              "      <td>...</td>\n",
              "      <td>...</td>\n",
              "      <td>...</td>\n",
              "      <td>...</td>\n",
              "      <td>...</td>\n",
              "      <td>...</td>\n",
              "      <td>...</td>\n",
              "    </tr>\n",
              "    <tr>\n",
              "      <th>995</th>\n",
              "      <td>https://m.media-amazon.com/images/M/MV5BNGEwMT...</td>\n",
              "      <td>Breakfast at Tiffany's</td>\n",
              "      <td>1961</td>\n",
              "      <td>A</td>\n",
              "      <td>115 min</td>\n",
              "      <td>Comedy, Drama, Romance</td>\n",
              "      <td>7.6</td>\n",
              "      <td>A young New York socialite becomes interested ...</td>\n",
              "      <td>76.0</td>\n",
              "      <td>Blake Edwards</td>\n",
              "      <td>Audrey Hepburn</td>\n",
              "      <td>George Peppard</td>\n",
              "      <td>Patricia Neal</td>\n",
              "      <td>Buddy Ebsen</td>\n",
              "      <td>166544</td>\n",
              "      <td>NaN</td>\n",
              "    </tr>\n",
              "    <tr>\n",
              "      <th>996</th>\n",
              "      <td>https://m.media-amazon.com/images/M/MV5BODk3Yj...</td>\n",
              "      <td>Giant</td>\n",
              "      <td>1956</td>\n",
              "      <td>G</td>\n",
              "      <td>201 min</td>\n",
              "      <td>Drama, Western</td>\n",
              "      <td>7.6</td>\n",
              "      <td>Sprawling epic covering the life of a Texas ca...</td>\n",
              "      <td>84.0</td>\n",
              "      <td>George Stevens</td>\n",
              "      <td>Elizabeth Taylor</td>\n",
              "      <td>Rock Hudson</td>\n",
              "      <td>James Dean</td>\n",
              "      <td>Carroll Baker</td>\n",
              "      <td>34075</td>\n",
              "      <td>NaN</td>\n",
              "    </tr>\n",
              "    <tr>\n",
              "      <th>997</th>\n",
              "      <td>https://m.media-amazon.com/images/M/MV5BM2U3Yz...</td>\n",
              "      <td>From Here to Eternity</td>\n",
              "      <td>1953</td>\n",
              "      <td>Passed</td>\n",
              "      <td>118 min</td>\n",
              "      <td>Drama, Romance, War</td>\n",
              "      <td>7.6</td>\n",
              "      <td>In Hawaii in 1941, a private is cruelly punish...</td>\n",
              "      <td>85.0</td>\n",
              "      <td>Fred Zinnemann</td>\n",
              "      <td>Burt Lancaster</td>\n",
              "      <td>Montgomery Clift</td>\n",
              "      <td>Deborah Kerr</td>\n",
              "      <td>Donna Reed</td>\n",
              "      <td>43374</td>\n",
              "      <td>30,500,000</td>\n",
              "    </tr>\n",
              "    <tr>\n",
              "      <th>998</th>\n",
              "      <td>https://m.media-amazon.com/images/M/MV5BZTBmMj...</td>\n",
              "      <td>Lifeboat</td>\n",
              "      <td>1944</td>\n",
              "      <td>NaN</td>\n",
              "      <td>97 min</td>\n",
              "      <td>Drama, War</td>\n",
              "      <td>7.6</td>\n",
              "      <td>Several survivors of a torpedoed merchant ship...</td>\n",
              "      <td>78.0</td>\n",
              "      <td>Alfred Hitchcock</td>\n",
              "      <td>Tallulah Bankhead</td>\n",
              "      <td>John Hodiak</td>\n",
              "      <td>Walter Slezak</td>\n",
              "      <td>William Bendix</td>\n",
              "      <td>26471</td>\n",
              "      <td>NaN</td>\n",
              "    </tr>\n",
              "    <tr>\n",
              "      <th>999</th>\n",
              "      <td>https://m.media-amazon.com/images/M/MV5BMTY5OD...</td>\n",
              "      <td>The 39 Steps</td>\n",
              "      <td>1935</td>\n",
              "      <td>NaN</td>\n",
              "      <td>86 min</td>\n",
              "      <td>Crime, Mystery, Thriller</td>\n",
              "      <td>7.6</td>\n",
              "      <td>A man in London tries to help a counter-espion...</td>\n",
              "      <td>93.0</td>\n",
              "      <td>Alfred Hitchcock</td>\n",
              "      <td>Robert Donat</td>\n",
              "      <td>Madeleine Carroll</td>\n",
              "      <td>Lucie Mannheim</td>\n",
              "      <td>Godfrey Tearle</td>\n",
              "      <td>51853</td>\n",
              "      <td>NaN</td>\n",
              "    </tr>\n",
              "  </tbody>\n",
              "</table>\n",
              "<p>1000 rows × 16 columns</p>\n",
              "</div>\n",
              "      <button class=\"colab-df-convert\" onclick=\"convertToInteractive('df-59579ffc-fade-4182-9aad-31ff282d7a1f')\"\n",
              "              title=\"Convert this dataframe to an interactive table.\"\n",
              "              style=\"display:none;\">\n",
              "        \n",
              "  <svg xmlns=\"http://www.w3.org/2000/svg\" height=\"24px\"viewBox=\"0 0 24 24\"\n",
              "       width=\"24px\">\n",
              "    <path d=\"M0 0h24v24H0V0z\" fill=\"none\"/>\n",
              "    <path d=\"M18.56 5.44l.94 2.06.94-2.06 2.06-.94-2.06-.94-.94-2.06-.94 2.06-2.06.94zm-11 1L8.5 8.5l.94-2.06 2.06-.94-2.06-.94L8.5 2.5l-.94 2.06-2.06.94zm10 10l.94 2.06.94-2.06 2.06-.94-2.06-.94-.94-2.06-.94 2.06-2.06.94z\"/><path d=\"M17.41 7.96l-1.37-1.37c-.4-.4-.92-.59-1.43-.59-.52 0-1.04.2-1.43.59L10.3 9.45l-7.72 7.72c-.78.78-.78 2.05 0 2.83L4 21.41c.39.39.9.59 1.41.59.51 0 1.02-.2 1.41-.59l7.78-7.78 2.81-2.81c.8-.78.8-2.07 0-2.86zM5.41 20L4 18.59l7.72-7.72 1.47 1.35L5.41 20z\"/>\n",
              "  </svg>\n",
              "      </button>\n",
              "      \n",
              "  <style>\n",
              "    .colab-df-container {\n",
              "      display:flex;\n",
              "      flex-wrap:wrap;\n",
              "      gap: 12px;\n",
              "    }\n",
              "\n",
              "    .colab-df-convert {\n",
              "      background-color: #E8F0FE;\n",
              "      border: none;\n",
              "      border-radius: 50%;\n",
              "      cursor: pointer;\n",
              "      display: none;\n",
              "      fill: #1967D2;\n",
              "      height: 32px;\n",
              "      padding: 0 0 0 0;\n",
              "      width: 32px;\n",
              "    }\n",
              "\n",
              "    .colab-df-convert:hover {\n",
              "      background-color: #E2EBFA;\n",
              "      box-shadow: 0px 1px 2px rgba(60, 64, 67, 0.3), 0px 1px 3px 1px rgba(60, 64, 67, 0.15);\n",
              "      fill: #174EA6;\n",
              "    }\n",
              "\n",
              "    [theme=dark] .colab-df-convert {\n",
              "      background-color: #3B4455;\n",
              "      fill: #D2E3FC;\n",
              "    }\n",
              "\n",
              "    [theme=dark] .colab-df-convert:hover {\n",
              "      background-color: #434B5C;\n",
              "      box-shadow: 0px 1px 3px 1px rgba(0, 0, 0, 0.15);\n",
              "      filter: drop-shadow(0px 1px 2px rgba(0, 0, 0, 0.3));\n",
              "      fill: #FFFFFF;\n",
              "    }\n",
              "  </style>\n",
              "\n",
              "      <script>\n",
              "        const buttonEl =\n",
              "          document.querySelector('#df-59579ffc-fade-4182-9aad-31ff282d7a1f button.colab-df-convert');\n",
              "        buttonEl.style.display =\n",
              "          google.colab.kernel.accessAllowed ? 'block' : 'none';\n",
              "\n",
              "        async function convertToInteractive(key) {\n",
              "          const element = document.querySelector('#df-59579ffc-fade-4182-9aad-31ff282d7a1f');\n",
              "          const dataTable =\n",
              "            await google.colab.kernel.invokeFunction('convertToInteractive',\n",
              "                                                     [key], {});\n",
              "          if (!dataTable) return;\n",
              "\n",
              "          const docLinkHtml = 'Like what you see? Visit the ' +\n",
              "            '<a target=\"_blank\" href=https://colab.research.google.com/notebooks/data_table.ipynb>data table notebook</a>'\n",
              "            + ' to learn more about interactive tables.';\n",
              "          element.innerHTML = '';\n",
              "          dataTable['output_type'] = 'display_data';\n",
              "          await google.colab.output.renderOutput(dataTable, element);\n",
              "          const docLink = document.createElement('div');\n",
              "          docLink.innerHTML = docLinkHtml;\n",
              "          element.appendChild(docLink);\n",
              "        }\n",
              "      </script>\n",
              "    </div>\n",
              "  </div>\n",
              "  "
            ]
          },
          "metadata": {},
          "execution_count": 5
        }
      ]
    },
    {
      "cell_type": "markdown",
      "source": [
        "**Checking the Datatype of the columns**"
      ],
      "metadata": {
        "id": "5nt9Tt9ioTmN"
      }
    },
    {
      "cell_type": "code",
      "source": [
        "print(imdb.dtypes)                                                      # DataType of each column."
      ],
      "metadata": {
        "id": "SsoHTGOuoWI_",
        "outputId": "4e532d36-364c-46a7-9fbc-bec2f6ea6b40",
        "colab": {
          "base_uri": "https://localhost:8080/"
        }
      },
      "execution_count": 6,
      "outputs": [
        {
          "output_type": "stream",
          "name": "stdout",
          "text": [
            "Poster_Link       object\n",
            "Series_Title      object\n",
            "Released_Year     object\n",
            "Certificate       object\n",
            "Runtime           object\n",
            "Genre             object\n",
            "IMDB_Rating      float64\n",
            "Overview          object\n",
            "Meta_score       float64\n",
            "Director          object\n",
            "Star1             object\n",
            "Star2             object\n",
            "Star3             object\n",
            "Star4             object\n",
            "No_of_Votes        int64\n",
            "Gross             object\n",
            "dtype: object\n"
          ]
        }
      ]
    },
    {
      "cell_type": "markdown",
      "source": [
        "**Understanding the Dataset**"
      ],
      "metadata": {
        "id": "X3xc2cJ8nexM"
      }
    },
    {
      "cell_type": "markdown",
      "source": [],
      "metadata": {
        "id": "lr4eOF8ikfnb"
      }
    },
    {
      "cell_type": "code",
      "source": [
        "imdb.shape                         #The shape of a DataSet is a tuple of array dimensions that tells the number of rows and columns of a given DataFrame."
      ],
      "metadata": {
        "id": "1wAbbZhydV2A",
        "outputId": "115269a2-ea4c-4d8d-ce87-af4ce2e0d1e5",
        "colab": {
          "base_uri": "https://localhost:8080/"
        }
      },
      "execution_count": 7,
      "outputs": [
        {
          "output_type": "execute_result",
          "data": {
            "text/plain": [
              "(1000, 16)"
            ]
          },
          "metadata": {},
          "execution_count": 7
        }
      ]
    },
    {
      "cell_type": "code",
      "source": [
        "imdb.columns                      # The columns of a DataSet tells the name of all columns names "
      ],
      "metadata": {
        "id": "jFMfZYoWdkO4",
        "outputId": "15941812-709f-49c1-dc24-7a9772e0a6e5",
        "colab": {
          "base_uri": "https://localhost:8080/"
        }
      },
      "execution_count": 8,
      "outputs": [
        {
          "output_type": "execute_result",
          "data": {
            "text/plain": [
              "Index(['Poster_Link', 'Series_Title', 'Released_Year', 'Certificate',\n",
              "       'Runtime', 'Genre', 'IMDB_Rating', 'Overview', 'Meta_score', 'Director',\n",
              "       'Star1', 'Star2', 'Star3', 'Star4', 'No_of_Votes', 'Gross'],\n",
              "      dtype='object')"
            ]
          },
          "metadata": {},
          "execution_count": 8
        }
      ]
    },
    {
      "cell_type": "code",
      "source": [
        "imdb.head()                        #This function returns the first n rows for the object based on position top."
      ],
      "metadata": {
        "id": "kuVRq6zkd1q4",
        "outputId": "65b26c73-ecc4-4d6e-830a-915d362d8bcd",
        "colab": {
          "base_uri": "https://localhost:8080/",
          "height": 722
        }
      },
      "execution_count": 9,
      "outputs": [
        {
          "output_type": "execute_result",
          "data": {
            "text/plain": [
              "                                         Poster_Link  \\\n",
              "0  https://m.media-amazon.com/images/M/MV5BMDFkYT...   \n",
              "1  https://m.media-amazon.com/images/M/MV5BM2MyNj...   \n",
              "2  https://m.media-amazon.com/images/M/MV5BMTMxNT...   \n",
              "3  https://m.media-amazon.com/images/M/MV5BMWMwMG...   \n",
              "4  https://m.media-amazon.com/images/M/MV5BMWU4N2...   \n",
              "\n",
              "               Series_Title Released_Year Certificate  Runtime  \\\n",
              "0  The Shawshank Redemption          1994           A  142 min   \n",
              "1             The Godfather          1972           A  175 min   \n",
              "2           The Dark Knight          2008          UA  152 min   \n",
              "3    The Godfather: Part II          1974           A  202 min   \n",
              "4              12 Angry Men          1957           U   96 min   \n",
              "\n",
              "                  Genre  IMDB_Rating  \\\n",
              "0                 Drama          9.3   \n",
              "1          Crime, Drama          9.2   \n",
              "2  Action, Crime, Drama          9.0   \n",
              "3          Crime, Drama          9.0   \n",
              "4          Crime, Drama          9.0   \n",
              "\n",
              "                                            Overview  Meta_score  \\\n",
              "0  Two imprisoned men bond over a number of years...        80.0   \n",
              "1  An organized crime dynasty's aging patriarch t...       100.0   \n",
              "2  When the menace known as the Joker wreaks havo...        84.0   \n",
              "3  The early life and career of Vito Corleone in ...        90.0   \n",
              "4  A jury holdout attempts to prevent a miscarria...        96.0   \n",
              "\n",
              "               Director           Star1           Star2          Star3  \\\n",
              "0        Frank Darabont     Tim Robbins  Morgan Freeman     Bob Gunton   \n",
              "1  Francis Ford Coppola   Marlon Brando       Al Pacino     James Caan   \n",
              "2     Christopher Nolan  Christian Bale    Heath Ledger  Aaron Eckhart   \n",
              "3  Francis Ford Coppola       Al Pacino  Robert De Niro  Robert Duvall   \n",
              "4          Sidney Lumet     Henry Fonda     Lee J. Cobb  Martin Balsam   \n",
              "\n",
              "            Star4  No_of_Votes        Gross  \n",
              "0  William Sadler      2343110   28,341,469  \n",
              "1    Diane Keaton      1620367  134,966,411  \n",
              "2   Michael Caine      2303232  534,858,444  \n",
              "3    Diane Keaton      1129952   57,300,000  \n",
              "4    John Fiedler       689845    4,360,000  "
            ],
            "text/html": [
              "\n",
              "  <div id=\"df-d7c3d470-3e63-436d-895d-0f467faa035d\">\n",
              "    <div class=\"colab-df-container\">\n",
              "      <div>\n",
              "<style scoped>\n",
              "    .dataframe tbody tr th:only-of-type {\n",
              "        vertical-align: middle;\n",
              "    }\n",
              "\n",
              "    .dataframe tbody tr th {\n",
              "        vertical-align: top;\n",
              "    }\n",
              "\n",
              "    .dataframe thead th {\n",
              "        text-align: right;\n",
              "    }\n",
              "</style>\n",
              "<table border=\"1\" class=\"dataframe\">\n",
              "  <thead>\n",
              "    <tr style=\"text-align: right;\">\n",
              "      <th></th>\n",
              "      <th>Poster_Link</th>\n",
              "      <th>Series_Title</th>\n",
              "      <th>Released_Year</th>\n",
              "      <th>Certificate</th>\n",
              "      <th>Runtime</th>\n",
              "      <th>Genre</th>\n",
              "      <th>IMDB_Rating</th>\n",
              "      <th>Overview</th>\n",
              "      <th>Meta_score</th>\n",
              "      <th>Director</th>\n",
              "      <th>Star1</th>\n",
              "      <th>Star2</th>\n",
              "      <th>Star3</th>\n",
              "      <th>Star4</th>\n",
              "      <th>No_of_Votes</th>\n",
              "      <th>Gross</th>\n",
              "    </tr>\n",
              "  </thead>\n",
              "  <tbody>\n",
              "    <tr>\n",
              "      <th>0</th>\n",
              "      <td>https://m.media-amazon.com/images/M/MV5BMDFkYT...</td>\n",
              "      <td>The Shawshank Redemption</td>\n",
              "      <td>1994</td>\n",
              "      <td>A</td>\n",
              "      <td>142 min</td>\n",
              "      <td>Drama</td>\n",
              "      <td>9.3</td>\n",
              "      <td>Two imprisoned men bond over a number of years...</td>\n",
              "      <td>80.0</td>\n",
              "      <td>Frank Darabont</td>\n",
              "      <td>Tim Robbins</td>\n",
              "      <td>Morgan Freeman</td>\n",
              "      <td>Bob Gunton</td>\n",
              "      <td>William Sadler</td>\n",
              "      <td>2343110</td>\n",
              "      <td>28,341,469</td>\n",
              "    </tr>\n",
              "    <tr>\n",
              "      <th>1</th>\n",
              "      <td>https://m.media-amazon.com/images/M/MV5BM2MyNj...</td>\n",
              "      <td>The Godfather</td>\n",
              "      <td>1972</td>\n",
              "      <td>A</td>\n",
              "      <td>175 min</td>\n",
              "      <td>Crime, Drama</td>\n",
              "      <td>9.2</td>\n",
              "      <td>An organized crime dynasty's aging patriarch t...</td>\n",
              "      <td>100.0</td>\n",
              "      <td>Francis Ford Coppola</td>\n",
              "      <td>Marlon Brando</td>\n",
              "      <td>Al Pacino</td>\n",
              "      <td>James Caan</td>\n",
              "      <td>Diane Keaton</td>\n",
              "      <td>1620367</td>\n",
              "      <td>134,966,411</td>\n",
              "    </tr>\n",
              "    <tr>\n",
              "      <th>2</th>\n",
              "      <td>https://m.media-amazon.com/images/M/MV5BMTMxNT...</td>\n",
              "      <td>The Dark Knight</td>\n",
              "      <td>2008</td>\n",
              "      <td>UA</td>\n",
              "      <td>152 min</td>\n",
              "      <td>Action, Crime, Drama</td>\n",
              "      <td>9.0</td>\n",
              "      <td>When the menace known as the Joker wreaks havo...</td>\n",
              "      <td>84.0</td>\n",
              "      <td>Christopher Nolan</td>\n",
              "      <td>Christian Bale</td>\n",
              "      <td>Heath Ledger</td>\n",
              "      <td>Aaron Eckhart</td>\n",
              "      <td>Michael Caine</td>\n",
              "      <td>2303232</td>\n",
              "      <td>534,858,444</td>\n",
              "    </tr>\n",
              "    <tr>\n",
              "      <th>3</th>\n",
              "      <td>https://m.media-amazon.com/images/M/MV5BMWMwMG...</td>\n",
              "      <td>The Godfather: Part II</td>\n",
              "      <td>1974</td>\n",
              "      <td>A</td>\n",
              "      <td>202 min</td>\n",
              "      <td>Crime, Drama</td>\n",
              "      <td>9.0</td>\n",
              "      <td>The early life and career of Vito Corleone in ...</td>\n",
              "      <td>90.0</td>\n",
              "      <td>Francis Ford Coppola</td>\n",
              "      <td>Al Pacino</td>\n",
              "      <td>Robert De Niro</td>\n",
              "      <td>Robert Duvall</td>\n",
              "      <td>Diane Keaton</td>\n",
              "      <td>1129952</td>\n",
              "      <td>57,300,000</td>\n",
              "    </tr>\n",
              "    <tr>\n",
              "      <th>4</th>\n",
              "      <td>https://m.media-amazon.com/images/M/MV5BMWU4N2...</td>\n",
              "      <td>12 Angry Men</td>\n",
              "      <td>1957</td>\n",
              "      <td>U</td>\n",
              "      <td>96 min</td>\n",
              "      <td>Crime, Drama</td>\n",
              "      <td>9.0</td>\n",
              "      <td>A jury holdout attempts to prevent a miscarria...</td>\n",
              "      <td>96.0</td>\n",
              "      <td>Sidney Lumet</td>\n",
              "      <td>Henry Fonda</td>\n",
              "      <td>Lee J. Cobb</td>\n",
              "      <td>Martin Balsam</td>\n",
              "      <td>John Fiedler</td>\n",
              "      <td>689845</td>\n",
              "      <td>4,360,000</td>\n",
              "    </tr>\n",
              "  </tbody>\n",
              "</table>\n",
              "</div>\n",
              "      <button class=\"colab-df-convert\" onclick=\"convertToInteractive('df-d7c3d470-3e63-436d-895d-0f467faa035d')\"\n",
              "              title=\"Convert this dataframe to an interactive table.\"\n",
              "              style=\"display:none;\">\n",
              "        \n",
              "  <svg xmlns=\"http://www.w3.org/2000/svg\" height=\"24px\"viewBox=\"0 0 24 24\"\n",
              "       width=\"24px\">\n",
              "    <path d=\"M0 0h24v24H0V0z\" fill=\"none\"/>\n",
              "    <path d=\"M18.56 5.44l.94 2.06.94-2.06 2.06-.94-2.06-.94-.94-2.06-.94 2.06-2.06.94zm-11 1L8.5 8.5l.94-2.06 2.06-.94-2.06-.94L8.5 2.5l-.94 2.06-2.06.94zm10 10l.94 2.06.94-2.06 2.06-.94-2.06-.94-.94-2.06-.94 2.06-2.06.94z\"/><path d=\"M17.41 7.96l-1.37-1.37c-.4-.4-.92-.59-1.43-.59-.52 0-1.04.2-1.43.59L10.3 9.45l-7.72 7.72c-.78.78-.78 2.05 0 2.83L4 21.41c.39.39.9.59 1.41.59.51 0 1.02-.2 1.41-.59l7.78-7.78 2.81-2.81c.8-.78.8-2.07 0-2.86zM5.41 20L4 18.59l7.72-7.72 1.47 1.35L5.41 20z\"/>\n",
              "  </svg>\n",
              "      </button>\n",
              "      \n",
              "  <style>\n",
              "    .colab-df-container {\n",
              "      display:flex;\n",
              "      flex-wrap:wrap;\n",
              "      gap: 12px;\n",
              "    }\n",
              "\n",
              "    .colab-df-convert {\n",
              "      background-color: #E8F0FE;\n",
              "      border: none;\n",
              "      border-radius: 50%;\n",
              "      cursor: pointer;\n",
              "      display: none;\n",
              "      fill: #1967D2;\n",
              "      height: 32px;\n",
              "      padding: 0 0 0 0;\n",
              "      width: 32px;\n",
              "    }\n",
              "\n",
              "    .colab-df-convert:hover {\n",
              "      background-color: #E2EBFA;\n",
              "      box-shadow: 0px 1px 2px rgba(60, 64, 67, 0.3), 0px 1px 3px 1px rgba(60, 64, 67, 0.15);\n",
              "      fill: #174EA6;\n",
              "    }\n",
              "\n",
              "    [theme=dark] .colab-df-convert {\n",
              "      background-color: #3B4455;\n",
              "      fill: #D2E3FC;\n",
              "    }\n",
              "\n",
              "    [theme=dark] .colab-df-convert:hover {\n",
              "      background-color: #434B5C;\n",
              "      box-shadow: 0px 1px 3px 1px rgba(0, 0, 0, 0.15);\n",
              "      filter: drop-shadow(0px 1px 2px rgba(0, 0, 0, 0.3));\n",
              "      fill: #FFFFFF;\n",
              "    }\n",
              "  </style>\n",
              "\n",
              "      <script>\n",
              "        const buttonEl =\n",
              "          document.querySelector('#df-d7c3d470-3e63-436d-895d-0f467faa035d button.colab-df-convert');\n",
              "        buttonEl.style.display =\n",
              "          google.colab.kernel.accessAllowed ? 'block' : 'none';\n",
              "\n",
              "        async function convertToInteractive(key) {\n",
              "          const element = document.querySelector('#df-d7c3d470-3e63-436d-895d-0f467faa035d');\n",
              "          const dataTable =\n",
              "            await google.colab.kernel.invokeFunction('convertToInteractive',\n",
              "                                                     [key], {});\n",
              "          if (!dataTable) return;\n",
              "\n",
              "          const docLinkHtml = 'Like what you see? Visit the ' +\n",
              "            '<a target=\"_blank\" href=https://colab.research.google.com/notebooks/data_table.ipynb>data table notebook</a>'\n",
              "            + ' to learn more about interactive tables.';\n",
              "          element.innerHTML = '';\n",
              "          dataTable['output_type'] = 'display_data';\n",
              "          await google.colab.output.renderOutput(dataTable, element);\n",
              "          const docLink = document.createElement('div');\n",
              "          docLink.innerHTML = docLinkHtml;\n",
              "          element.appendChild(docLink);\n",
              "        }\n",
              "      </script>\n",
              "    </div>\n",
              "  </div>\n",
              "  "
            ]
          },
          "metadata": {},
          "execution_count": 9
        }
      ]
    },
    {
      "cell_type": "code",
      "source": [
        "imdb.tail()                         #This function returns the first n rows for the object based on position down."
      ],
      "metadata": {
        "id": "w-NtKHsPeFsN",
        "outputId": "a1eb4f53-b5a8-40b1-dd04-b129a19882cd",
        "colab": {
          "base_uri": "https://localhost:8080/",
          "height": 687
        }
      },
      "execution_count": 10,
      "outputs": [
        {
          "output_type": "execute_result",
          "data": {
            "text/plain": [
              "                                           Poster_Link  \\\n",
              "995  https://m.media-amazon.com/images/M/MV5BNGEwMT...   \n",
              "996  https://m.media-amazon.com/images/M/MV5BODk3Yj...   \n",
              "997  https://m.media-amazon.com/images/M/MV5BM2U3Yz...   \n",
              "998  https://m.media-amazon.com/images/M/MV5BZTBmMj...   \n",
              "999  https://m.media-amazon.com/images/M/MV5BMTY5OD...   \n",
              "\n",
              "               Series_Title Released_Year Certificate  Runtime  \\\n",
              "995  Breakfast at Tiffany's          1961           A  115 min   \n",
              "996                   Giant          1956           G  201 min   \n",
              "997   From Here to Eternity          1953      Passed  118 min   \n",
              "998                Lifeboat          1944         NaN   97 min   \n",
              "999            The 39 Steps          1935         NaN   86 min   \n",
              "\n",
              "                        Genre  IMDB_Rating  \\\n",
              "995    Comedy, Drama, Romance          7.6   \n",
              "996            Drama, Western          7.6   \n",
              "997       Drama, Romance, War          7.6   \n",
              "998                Drama, War          7.6   \n",
              "999  Crime, Mystery, Thriller          7.6   \n",
              "\n",
              "                                              Overview  Meta_score  \\\n",
              "995  A young New York socialite becomes interested ...        76.0   \n",
              "996  Sprawling epic covering the life of a Texas ca...        84.0   \n",
              "997  In Hawaii in 1941, a private is cruelly punish...        85.0   \n",
              "998  Several survivors of a torpedoed merchant ship...        78.0   \n",
              "999  A man in London tries to help a counter-espion...        93.0   \n",
              "\n",
              "             Director              Star1              Star2           Star3  \\\n",
              "995     Blake Edwards     Audrey Hepburn     George Peppard   Patricia Neal   \n",
              "996    George Stevens   Elizabeth Taylor        Rock Hudson      James Dean   \n",
              "997    Fred Zinnemann     Burt Lancaster   Montgomery Clift    Deborah Kerr   \n",
              "998  Alfred Hitchcock  Tallulah Bankhead        John Hodiak   Walter Slezak   \n",
              "999  Alfred Hitchcock       Robert Donat  Madeleine Carroll  Lucie Mannheim   \n",
              "\n",
              "              Star4  No_of_Votes       Gross  \n",
              "995     Buddy Ebsen       166544         NaN  \n",
              "996   Carroll Baker        34075         NaN  \n",
              "997      Donna Reed        43374  30,500,000  \n",
              "998  William Bendix        26471         NaN  \n",
              "999  Godfrey Tearle        51853         NaN  "
            ],
            "text/html": [
              "\n",
              "  <div id=\"df-9426c6f0-cea4-4289-8019-f1e294d3f4cf\">\n",
              "    <div class=\"colab-df-container\">\n",
              "      <div>\n",
              "<style scoped>\n",
              "    .dataframe tbody tr th:only-of-type {\n",
              "        vertical-align: middle;\n",
              "    }\n",
              "\n",
              "    .dataframe tbody tr th {\n",
              "        vertical-align: top;\n",
              "    }\n",
              "\n",
              "    .dataframe thead th {\n",
              "        text-align: right;\n",
              "    }\n",
              "</style>\n",
              "<table border=\"1\" class=\"dataframe\">\n",
              "  <thead>\n",
              "    <tr style=\"text-align: right;\">\n",
              "      <th></th>\n",
              "      <th>Poster_Link</th>\n",
              "      <th>Series_Title</th>\n",
              "      <th>Released_Year</th>\n",
              "      <th>Certificate</th>\n",
              "      <th>Runtime</th>\n",
              "      <th>Genre</th>\n",
              "      <th>IMDB_Rating</th>\n",
              "      <th>Overview</th>\n",
              "      <th>Meta_score</th>\n",
              "      <th>Director</th>\n",
              "      <th>Star1</th>\n",
              "      <th>Star2</th>\n",
              "      <th>Star3</th>\n",
              "      <th>Star4</th>\n",
              "      <th>No_of_Votes</th>\n",
              "      <th>Gross</th>\n",
              "    </tr>\n",
              "  </thead>\n",
              "  <tbody>\n",
              "    <tr>\n",
              "      <th>995</th>\n",
              "      <td>https://m.media-amazon.com/images/M/MV5BNGEwMT...</td>\n",
              "      <td>Breakfast at Tiffany's</td>\n",
              "      <td>1961</td>\n",
              "      <td>A</td>\n",
              "      <td>115 min</td>\n",
              "      <td>Comedy, Drama, Romance</td>\n",
              "      <td>7.6</td>\n",
              "      <td>A young New York socialite becomes interested ...</td>\n",
              "      <td>76.0</td>\n",
              "      <td>Blake Edwards</td>\n",
              "      <td>Audrey Hepburn</td>\n",
              "      <td>George Peppard</td>\n",
              "      <td>Patricia Neal</td>\n",
              "      <td>Buddy Ebsen</td>\n",
              "      <td>166544</td>\n",
              "      <td>NaN</td>\n",
              "    </tr>\n",
              "    <tr>\n",
              "      <th>996</th>\n",
              "      <td>https://m.media-amazon.com/images/M/MV5BODk3Yj...</td>\n",
              "      <td>Giant</td>\n",
              "      <td>1956</td>\n",
              "      <td>G</td>\n",
              "      <td>201 min</td>\n",
              "      <td>Drama, Western</td>\n",
              "      <td>7.6</td>\n",
              "      <td>Sprawling epic covering the life of a Texas ca...</td>\n",
              "      <td>84.0</td>\n",
              "      <td>George Stevens</td>\n",
              "      <td>Elizabeth Taylor</td>\n",
              "      <td>Rock Hudson</td>\n",
              "      <td>James Dean</td>\n",
              "      <td>Carroll Baker</td>\n",
              "      <td>34075</td>\n",
              "      <td>NaN</td>\n",
              "    </tr>\n",
              "    <tr>\n",
              "      <th>997</th>\n",
              "      <td>https://m.media-amazon.com/images/M/MV5BM2U3Yz...</td>\n",
              "      <td>From Here to Eternity</td>\n",
              "      <td>1953</td>\n",
              "      <td>Passed</td>\n",
              "      <td>118 min</td>\n",
              "      <td>Drama, Romance, War</td>\n",
              "      <td>7.6</td>\n",
              "      <td>In Hawaii in 1941, a private is cruelly punish...</td>\n",
              "      <td>85.0</td>\n",
              "      <td>Fred Zinnemann</td>\n",
              "      <td>Burt Lancaster</td>\n",
              "      <td>Montgomery Clift</td>\n",
              "      <td>Deborah Kerr</td>\n",
              "      <td>Donna Reed</td>\n",
              "      <td>43374</td>\n",
              "      <td>30,500,000</td>\n",
              "    </tr>\n",
              "    <tr>\n",
              "      <th>998</th>\n",
              "      <td>https://m.media-amazon.com/images/M/MV5BZTBmMj...</td>\n",
              "      <td>Lifeboat</td>\n",
              "      <td>1944</td>\n",
              "      <td>NaN</td>\n",
              "      <td>97 min</td>\n",
              "      <td>Drama, War</td>\n",
              "      <td>7.6</td>\n",
              "      <td>Several survivors of a torpedoed merchant ship...</td>\n",
              "      <td>78.0</td>\n",
              "      <td>Alfred Hitchcock</td>\n",
              "      <td>Tallulah Bankhead</td>\n",
              "      <td>John Hodiak</td>\n",
              "      <td>Walter Slezak</td>\n",
              "      <td>William Bendix</td>\n",
              "      <td>26471</td>\n",
              "      <td>NaN</td>\n",
              "    </tr>\n",
              "    <tr>\n",
              "      <th>999</th>\n",
              "      <td>https://m.media-amazon.com/images/M/MV5BMTY5OD...</td>\n",
              "      <td>The 39 Steps</td>\n",
              "      <td>1935</td>\n",
              "      <td>NaN</td>\n",
              "      <td>86 min</td>\n",
              "      <td>Crime, Mystery, Thriller</td>\n",
              "      <td>7.6</td>\n",
              "      <td>A man in London tries to help a counter-espion...</td>\n",
              "      <td>93.0</td>\n",
              "      <td>Alfred Hitchcock</td>\n",
              "      <td>Robert Donat</td>\n",
              "      <td>Madeleine Carroll</td>\n",
              "      <td>Lucie Mannheim</td>\n",
              "      <td>Godfrey Tearle</td>\n",
              "      <td>51853</td>\n",
              "      <td>NaN</td>\n",
              "    </tr>\n",
              "  </tbody>\n",
              "</table>\n",
              "</div>\n",
              "      <button class=\"colab-df-convert\" onclick=\"convertToInteractive('df-9426c6f0-cea4-4289-8019-f1e294d3f4cf')\"\n",
              "              title=\"Convert this dataframe to an interactive table.\"\n",
              "              style=\"display:none;\">\n",
              "        \n",
              "  <svg xmlns=\"http://www.w3.org/2000/svg\" height=\"24px\"viewBox=\"0 0 24 24\"\n",
              "       width=\"24px\">\n",
              "    <path d=\"M0 0h24v24H0V0z\" fill=\"none\"/>\n",
              "    <path d=\"M18.56 5.44l.94 2.06.94-2.06 2.06-.94-2.06-.94-.94-2.06-.94 2.06-2.06.94zm-11 1L8.5 8.5l.94-2.06 2.06-.94-2.06-.94L8.5 2.5l-.94 2.06-2.06.94zm10 10l.94 2.06.94-2.06 2.06-.94-2.06-.94-.94-2.06-.94 2.06-2.06.94z\"/><path d=\"M17.41 7.96l-1.37-1.37c-.4-.4-.92-.59-1.43-.59-.52 0-1.04.2-1.43.59L10.3 9.45l-7.72 7.72c-.78.78-.78 2.05 0 2.83L4 21.41c.39.39.9.59 1.41.59.51 0 1.02-.2 1.41-.59l7.78-7.78 2.81-2.81c.8-.78.8-2.07 0-2.86zM5.41 20L4 18.59l7.72-7.72 1.47 1.35L5.41 20z\"/>\n",
              "  </svg>\n",
              "      </button>\n",
              "      \n",
              "  <style>\n",
              "    .colab-df-container {\n",
              "      display:flex;\n",
              "      flex-wrap:wrap;\n",
              "      gap: 12px;\n",
              "    }\n",
              "\n",
              "    .colab-df-convert {\n",
              "      background-color: #E8F0FE;\n",
              "      border: none;\n",
              "      border-radius: 50%;\n",
              "      cursor: pointer;\n",
              "      display: none;\n",
              "      fill: #1967D2;\n",
              "      height: 32px;\n",
              "      padding: 0 0 0 0;\n",
              "      width: 32px;\n",
              "    }\n",
              "\n",
              "    .colab-df-convert:hover {\n",
              "      background-color: #E2EBFA;\n",
              "      box-shadow: 0px 1px 2px rgba(60, 64, 67, 0.3), 0px 1px 3px 1px rgba(60, 64, 67, 0.15);\n",
              "      fill: #174EA6;\n",
              "    }\n",
              "\n",
              "    [theme=dark] .colab-df-convert {\n",
              "      background-color: #3B4455;\n",
              "      fill: #D2E3FC;\n",
              "    }\n",
              "\n",
              "    [theme=dark] .colab-df-convert:hover {\n",
              "      background-color: #434B5C;\n",
              "      box-shadow: 0px 1px 3px 1px rgba(0, 0, 0, 0.15);\n",
              "      filter: drop-shadow(0px 1px 2px rgba(0, 0, 0, 0.3));\n",
              "      fill: #FFFFFF;\n",
              "    }\n",
              "  </style>\n",
              "\n",
              "      <script>\n",
              "        const buttonEl =\n",
              "          document.querySelector('#df-9426c6f0-cea4-4289-8019-f1e294d3f4cf button.colab-df-convert');\n",
              "        buttonEl.style.display =\n",
              "          google.colab.kernel.accessAllowed ? 'block' : 'none';\n",
              "\n",
              "        async function convertToInteractive(key) {\n",
              "          const element = document.querySelector('#df-9426c6f0-cea4-4289-8019-f1e294d3f4cf');\n",
              "          const dataTable =\n",
              "            await google.colab.kernel.invokeFunction('convertToInteractive',\n",
              "                                                     [key], {});\n",
              "          if (!dataTable) return;\n",
              "\n",
              "          const docLinkHtml = 'Like what you see? Visit the ' +\n",
              "            '<a target=\"_blank\" href=https://colab.research.google.com/notebooks/data_table.ipynb>data table notebook</a>'\n",
              "            + ' to learn more about interactive tables.';\n",
              "          element.innerHTML = '';\n",
              "          dataTable['output_type'] = 'display_data';\n",
              "          await google.colab.output.renderOutput(dataTable, element);\n",
              "          const docLink = document.createElement('div');\n",
              "          docLink.innerHTML = docLinkHtml;\n",
              "          element.appendChild(docLink);\n",
              "        }\n",
              "      </script>\n",
              "    </div>\n",
              "  </div>\n",
              "  "
            ]
          },
          "metadata": {},
          "execution_count": 10
        }
      ]
    },
    {
      "cell_type": "code",
      "source": [
        "imdb.info()                   #The information contains the number of columns, column labels, column data types, memory usage, range index, and the number of cells in each column (non-null values)."
      ],
      "metadata": {
        "id": "bClyXfZaef5N",
        "outputId": "ed07c47e-dae9-4d5c-f583-f25879f029f3",
        "colab": {
          "base_uri": "https://localhost:8080/"
        }
      },
      "execution_count": 11,
      "outputs": [
        {
          "output_type": "stream",
          "name": "stdout",
          "text": [
            "<class 'pandas.core.frame.DataFrame'>\n",
            "RangeIndex: 1000 entries, 0 to 999\n",
            "Data columns (total 16 columns):\n",
            " #   Column         Non-Null Count  Dtype  \n",
            "---  ------         --------------  -----  \n",
            " 0   Poster_Link    1000 non-null   object \n",
            " 1   Series_Title   1000 non-null   object \n",
            " 2   Released_Year  1000 non-null   object \n",
            " 3   Certificate    899 non-null    object \n",
            " 4   Runtime        1000 non-null   object \n",
            " 5   Genre          1000 non-null   object \n",
            " 6   IMDB_Rating    1000 non-null   float64\n",
            " 7   Overview       1000 non-null   object \n",
            " 8   Meta_score     843 non-null    float64\n",
            " 9   Director       1000 non-null   object \n",
            " 10  Star1          1000 non-null   object \n",
            " 11  Star2          1000 non-null   object \n",
            " 12  Star3          1000 non-null   object \n",
            " 13  Star4          1000 non-null   object \n",
            " 14  No_of_Votes    1000 non-null   int64  \n",
            " 15  Gross          831 non-null    object \n",
            "dtypes: float64(2), int64(1), object(13)\n",
            "memory usage: 125.1+ KB\n"
          ]
        }
      ]
    },
    {
      "cell_type": "markdown",
      "source": [],
      "metadata": {
        "id": "bcYXmc2iCcq0"
      }
    },
    {
      "cell_type": "code",
      "source": [
        "imdb.describe().T          #For numeric data, the result’s index will include count, mean, std, min, max as well as lower, 50 and upper percentiles.The 50 percentile is the same as the median."
      ],
      "metadata": {
        "id": "HxnQwucjetMb",
        "outputId": "420cd1bf-72aa-4dbb-ce38-834156f228ab",
        "colab": {
          "base_uri": "https://localhost:8080/",
          "height": 143
        }
      },
      "execution_count": 12,
      "outputs": [
        {
          "output_type": "execute_result",
          "data": {
            "text/plain": [
              "              count          mean            std      min       25%       50%  \\\n",
              "IMDB_Rating  1000.0       7.94930       0.275491      7.6      7.70       7.9   \n",
              "Meta_score    843.0      77.97153      12.376099     28.0     70.00      79.0   \n",
              "No_of_Votes  1000.0  273692.91100  327372.703934  25088.0  55526.25  138548.5   \n",
              "\n",
              "                   75%        max  \n",
              "IMDB_Rating       8.10        9.3  \n",
              "Meta_score       87.00      100.0  \n",
              "No_of_Votes  374161.25  2343110.0  "
            ],
            "text/html": [
              "\n",
              "  <div id=\"df-a9a33b38-dc41-486c-af90-5a975914e5ee\">\n",
              "    <div class=\"colab-df-container\">\n",
              "      <div>\n",
              "<style scoped>\n",
              "    .dataframe tbody tr th:only-of-type {\n",
              "        vertical-align: middle;\n",
              "    }\n",
              "\n",
              "    .dataframe tbody tr th {\n",
              "        vertical-align: top;\n",
              "    }\n",
              "\n",
              "    .dataframe thead th {\n",
              "        text-align: right;\n",
              "    }\n",
              "</style>\n",
              "<table border=\"1\" class=\"dataframe\">\n",
              "  <thead>\n",
              "    <tr style=\"text-align: right;\">\n",
              "      <th></th>\n",
              "      <th>count</th>\n",
              "      <th>mean</th>\n",
              "      <th>std</th>\n",
              "      <th>min</th>\n",
              "      <th>25%</th>\n",
              "      <th>50%</th>\n",
              "      <th>75%</th>\n",
              "      <th>max</th>\n",
              "    </tr>\n",
              "  </thead>\n",
              "  <tbody>\n",
              "    <tr>\n",
              "      <th>IMDB_Rating</th>\n",
              "      <td>1000.0</td>\n",
              "      <td>7.94930</td>\n",
              "      <td>0.275491</td>\n",
              "      <td>7.6</td>\n",
              "      <td>7.70</td>\n",
              "      <td>7.9</td>\n",
              "      <td>8.10</td>\n",
              "      <td>9.3</td>\n",
              "    </tr>\n",
              "    <tr>\n",
              "      <th>Meta_score</th>\n",
              "      <td>843.0</td>\n",
              "      <td>77.97153</td>\n",
              "      <td>12.376099</td>\n",
              "      <td>28.0</td>\n",
              "      <td>70.00</td>\n",
              "      <td>79.0</td>\n",
              "      <td>87.00</td>\n",
              "      <td>100.0</td>\n",
              "    </tr>\n",
              "    <tr>\n",
              "      <th>No_of_Votes</th>\n",
              "      <td>1000.0</td>\n",
              "      <td>273692.91100</td>\n",
              "      <td>327372.703934</td>\n",
              "      <td>25088.0</td>\n",
              "      <td>55526.25</td>\n",
              "      <td>138548.5</td>\n",
              "      <td>374161.25</td>\n",
              "      <td>2343110.0</td>\n",
              "    </tr>\n",
              "  </tbody>\n",
              "</table>\n",
              "</div>\n",
              "      <button class=\"colab-df-convert\" onclick=\"convertToInteractive('df-a9a33b38-dc41-486c-af90-5a975914e5ee')\"\n",
              "              title=\"Convert this dataframe to an interactive table.\"\n",
              "              style=\"display:none;\">\n",
              "        \n",
              "  <svg xmlns=\"http://www.w3.org/2000/svg\" height=\"24px\"viewBox=\"0 0 24 24\"\n",
              "       width=\"24px\">\n",
              "    <path d=\"M0 0h24v24H0V0z\" fill=\"none\"/>\n",
              "    <path d=\"M18.56 5.44l.94 2.06.94-2.06 2.06-.94-2.06-.94-.94-2.06-.94 2.06-2.06.94zm-11 1L8.5 8.5l.94-2.06 2.06-.94-2.06-.94L8.5 2.5l-.94 2.06-2.06.94zm10 10l.94 2.06.94-2.06 2.06-.94-2.06-.94-.94-2.06-.94 2.06-2.06.94z\"/><path d=\"M17.41 7.96l-1.37-1.37c-.4-.4-.92-.59-1.43-.59-.52 0-1.04.2-1.43.59L10.3 9.45l-7.72 7.72c-.78.78-.78 2.05 0 2.83L4 21.41c.39.39.9.59 1.41.59.51 0 1.02-.2 1.41-.59l7.78-7.78 2.81-2.81c.8-.78.8-2.07 0-2.86zM5.41 20L4 18.59l7.72-7.72 1.47 1.35L5.41 20z\"/>\n",
              "  </svg>\n",
              "      </button>\n",
              "      \n",
              "  <style>\n",
              "    .colab-df-container {\n",
              "      display:flex;\n",
              "      flex-wrap:wrap;\n",
              "      gap: 12px;\n",
              "    }\n",
              "\n",
              "    .colab-df-convert {\n",
              "      background-color: #E8F0FE;\n",
              "      border: none;\n",
              "      border-radius: 50%;\n",
              "      cursor: pointer;\n",
              "      display: none;\n",
              "      fill: #1967D2;\n",
              "      height: 32px;\n",
              "      padding: 0 0 0 0;\n",
              "      width: 32px;\n",
              "    }\n",
              "\n",
              "    .colab-df-convert:hover {\n",
              "      background-color: #E2EBFA;\n",
              "      box-shadow: 0px 1px 2px rgba(60, 64, 67, 0.3), 0px 1px 3px 1px rgba(60, 64, 67, 0.15);\n",
              "      fill: #174EA6;\n",
              "    }\n",
              "\n",
              "    [theme=dark] .colab-df-convert {\n",
              "      background-color: #3B4455;\n",
              "      fill: #D2E3FC;\n",
              "    }\n",
              "\n",
              "    [theme=dark] .colab-df-convert:hover {\n",
              "      background-color: #434B5C;\n",
              "      box-shadow: 0px 1px 3px 1px rgba(0, 0, 0, 0.15);\n",
              "      filter: drop-shadow(0px 1px 2px rgba(0, 0, 0, 0.3));\n",
              "      fill: #FFFFFF;\n",
              "    }\n",
              "  </style>\n",
              "\n",
              "      <script>\n",
              "        const buttonEl =\n",
              "          document.querySelector('#df-a9a33b38-dc41-486c-af90-5a975914e5ee button.colab-df-convert');\n",
              "        buttonEl.style.display =\n",
              "          google.colab.kernel.accessAllowed ? 'block' : 'none';\n",
              "\n",
              "        async function convertToInteractive(key) {\n",
              "          const element = document.querySelector('#df-a9a33b38-dc41-486c-af90-5a975914e5ee');\n",
              "          const dataTable =\n",
              "            await google.colab.kernel.invokeFunction('convertToInteractive',\n",
              "                                                     [key], {});\n",
              "          if (!dataTable) return;\n",
              "\n",
              "          const docLinkHtml = 'Like what you see? Visit the ' +\n",
              "            '<a target=\"_blank\" href=https://colab.research.google.com/notebooks/data_table.ipynb>data table notebook</a>'\n",
              "            + ' to learn more about interactive tables.';\n",
              "          element.innerHTML = '';\n",
              "          dataTable['output_type'] = 'display_data';\n",
              "          await google.colab.output.renderOutput(dataTable, element);\n",
              "          const docLink = document.createElement('div');\n",
              "          docLink.innerHTML = docLinkHtml;\n",
              "          element.appendChild(docLink);\n",
              "        }\n",
              "      </script>\n",
              "    </div>\n",
              "  </div>\n",
              "  "
            ]
          },
          "metadata": {},
          "execution_count": 12
        }
      ]
    },
    {
      "cell_type": "markdown",
      "source": [
        "**3) Searching for Null, Missing, Unwanted values**"
      ],
      "metadata": {
        "id": "1hnlX6OvKrY7"
      }
    },
    {
      "cell_type": "code",
      "source": [
        "im.find_null_values(imdb)"
      ],
      "metadata": {
        "id": "T0_oC8ZT6M8S",
        "outputId": "0f23c862-f9e7-4942-c9d5-1d2c3067b521",
        "colab": {
          "base_uri": "https://localhost:8080/"
        }
      },
      "execution_count": 13,
      "outputs": [
        {
          "output_type": "stream",
          "name": "stdout",
          "text": [
            "No of Null Values: Poster_Link        0\n",
            "Series_Title       0\n",
            "Released_Year      0\n",
            "Certificate      101\n",
            "Runtime            0\n",
            "Genre              0\n",
            "IMDB_Rating        0\n",
            "Overview           0\n",
            "Meta_score       157\n",
            "Director           0\n",
            "Star1              0\n",
            "Star2              0\n",
            "Star3              0\n",
            "Star4              0\n",
            "No_of_Votes        0\n",
            "Gross            169\n",
            "dtype: int64\n"
          ]
        }
      ]
    },
    {
      "cell_type": "code",
      "source": [
        "imdb.isna().sum()                 #isna()calculates all the missing values and sum() calculates the sum of elements for each row and column."
      ],
      "metadata": {
        "id": "oXCKQuG8K38s",
        "outputId": "9fca6c2f-37b1-4102-f8e2-f4b79f7aadae",
        "colab": {
          "base_uri": "https://localhost:8080/"
        }
      },
      "execution_count": 14,
      "outputs": [
        {
          "output_type": "execute_result",
          "data": {
            "text/plain": [
              "Poster_Link        0\n",
              "Series_Title       0\n",
              "Released_Year      0\n",
              "Certificate      101\n",
              "Runtime            0\n",
              "Genre              0\n",
              "IMDB_Rating        0\n",
              "Overview           0\n",
              "Meta_score       157\n",
              "Director           0\n",
              "Star1              0\n",
              "Star2              0\n",
              "Star3              0\n",
              "Star4              0\n",
              "No_of_Votes        0\n",
              "Gross            169\n",
              "dtype: int64"
            ]
          },
          "metadata": {},
          "execution_count": 14
        }
      ]
    },
    {
      "cell_type": "code",
      "source": [
        "imdb.columns.unique()               #Number of unique values in columns of data set  "
      ],
      "metadata": {
        "id": "s4JBnS57rJ9T",
        "outputId": "928a1584-d694-447f-ee82-75c6220ff457",
        "colab": {
          "base_uri": "https://localhost:8080/"
        }
      },
      "execution_count": 15,
      "outputs": [
        {
          "output_type": "execute_result",
          "data": {
            "text/plain": [
              "Index(['Poster_Link', 'Series_Title', 'Released_Year', 'Certificate',\n",
              "       'Runtime', 'Genre', 'IMDB_Rating', 'Overview', 'Meta_score', 'Director',\n",
              "       'Star1', 'Star2', 'Star3', 'Star4', 'No_of_Votes', 'Gross'],\n",
              "      dtype='object')"
            ]
          },
          "metadata": {},
          "execution_count": 15
        }
      ]
    },
    {
      "cell_type": "markdown",
      "source": [
        "**Searching for Duplicate Values**"
      ],
      "metadata": {
        "id": "WOPDH5LHLJkX"
      }
    },
    {
      "cell_type": "code",
      "source": [
        "imdb.duplicated().sum()                   #Duplicate in columns"
      ],
      "metadata": {
        "id": "YwsYLTcGLSUK",
        "outputId": "8b89e78d-cf28-435f-ef2e-bc0f1faa2e98",
        "colab": {
          "base_uri": "https://localhost:8080/"
        }
      },
      "execution_count": 16,
      "outputs": [
        {
          "output_type": "execute_result",
          "data": {
            "text/plain": [
              "0"
            ]
          },
          "metadata": {},
          "execution_count": 16
        }
      ]
    },
    {
      "cell_type": "markdown",
      "source": [
        "**Total Numbers of matches played by each Team**"
      ],
      "metadata": {
        "id": "9KKrzXWRIgOX"
      }
    },
    {
      "cell_type": "code",
      "source": [],
      "metadata": {
        "id": "Up-Tw-TCDLBs"
      },
      "execution_count": 16,
      "outputs": []
    },
    {
      "cell_type": "code",
      "source": [],
      "metadata": {
        "id": "i9ePco0aDKor"
      },
      "execution_count": 16,
      "outputs": []
    },
    {
      "cell_type": "markdown",
      "source": [
        "**Number of matches Win**"
      ],
      "metadata": {
        "id": "F018jdiQI9ud"
      }
    },
    {
      "cell_type": "code",
      "source": [
        "win =imdb.groupby('Series_Title').count()\n",
        "win['Released_Year']"
      ],
      "metadata": {
        "id": "v2A4Pfid9pmH",
        "outputId": "2edc7e7e-443e-4c1c-f23e-a3f65601ce13",
        "colab": {
          "base_uri": "https://localhost:8080/"
        }
      },
      "execution_count": 17,
      "outputs": [
        {
          "output_type": "execute_result",
          "data": {
            "text/plain": [
              "Series_Title\n",
              "(500) Days of Summer           1\n",
              "12 Angry Men                   1\n",
              "12 Years a Slave               1\n",
              "1917                           1\n",
              "2001: A Space Odyssey          1\n",
              "                              ..\n",
              "Zootopia                       1\n",
              "Zulu                           1\n",
              "Zwartboek                      1\n",
              "À bout de souffle              1\n",
              "Ôkami kodomo no Ame to Yuki    1\n",
              "Name: Released_Year, Length: 999, dtype: int64"
            ]
          },
          "metadata": {},
          "execution_count": 17
        }
      ]
    },
    {
      "cell_type": "code",
      "source": [
        "im.duration_rating(imdb, Runtime, IMDB_Rating)   "
      ],
      "metadata": {
        "id": "kaXSrq3V94Ui",
        "colab": {
          "base_uri": "https://localhost:8080/",
          "height": 165
        },
        "outputId": "3a865997-b225-42b8-bcb7-608256d0031f"
      },
      "execution_count": 18,
      "outputs": [
        {
          "output_type": "error",
          "ename": "NameError",
          "evalue": "ignored",
          "traceback": [
            "\u001b[0;31m---------------------------------------------------------------------------\u001b[0m",
            "\u001b[0;31mNameError\u001b[0m                                 Traceback (most recent call last)",
            "\u001b[0;32m<ipython-input-18-3b4268b210f4>\u001b[0m in \u001b[0;36m<module>\u001b[0;34m\u001b[0m\n\u001b[0;32m----> 1\u001b[0;31m \u001b[0mim\u001b[0m\u001b[0;34m.\u001b[0m\u001b[0mduration_rating\u001b[0m\u001b[0;34m(\u001b[0m\u001b[0mimdb\u001b[0m\u001b[0;34m,\u001b[0m \u001b[0mRuntime\u001b[0m\u001b[0;34m,\u001b[0m \u001b[0mIMDB_Rating\u001b[0m\u001b[0;34m)\u001b[0m\u001b[0;34m\u001b[0m\u001b[0;34m\u001b[0m\u001b[0m\n\u001b[0m",
            "\u001b[0;31mNameError\u001b[0m: name 'Runtime' is not defined"
          ]
        }
      ]
    },
    {
      "cell_type": "markdown",
      "source": [
        "****"
      ],
      "metadata": {
        "id": "4EsNfYRgKaV8"
      }
    },
    {
      "cell_type": "code",
      "source": [
        "most_runs = imdb.groupby(['ID'])['total_run'].sum().reset_index()      #Run scored by both teams in a match  according match sequence \n",
        "most_runs"
      ],
      "metadata": {
        "id": "18Swt5bF-Fz_"
      },
      "execution_count": null,
      "outputs": []
    },
    {
      "cell_type": "code",
      "source": [
        "om.runs_scored_ascending(most_runs)            #Runs scored by both teams in ascending order according to runs "
      ],
      "metadata": {
        "id": "UAbMRbR6-aml"
      },
      "execution_count": null,
      "outputs": []
    },
    {
      "cell_type": "markdown",
      "source": [
        "**Fuctions for plot**"
      ],
      "metadata": {
        "id": "ZYaDAt9XL6iT"
      }
    },
    {
      "cell_type": "code",
      "source": [
        "def histo(imdb):\n",
        "  \n",
        "   fig = px.histogram(imdb, x='total_run')\n",
        "   fig.show()\n",
        "\n",
        "def box(imdb):\n",
        "   fig = px.box(imdb, y='batsman_run')\n",
        "   fig.show()\n",
        "\n",
        "def hist(M_D):\n",
        "   fig = px.histogram(M_D, x='WonBy')\n",
        "   fig.show()\n",
        "\n",
        "def countplot(M_D):\n",
        "  plt.figure(figsize=(20,10))\n",
        "  sns.countplot(x ='TossWinner', data = M_D)\n",
        "\n",
        "def barplot(M_D):\n",
        "  sns.barplot(y ='overs', x ='extras_run' , data = M_D)\n",
        "   \n",
        "def relplot(imdb):\n",
        "  sns.relplot(x =\"overs\", y =\"batsman_run\",\n",
        "  data = imdb);\n"
      ],
      "metadata": {
        "id": "aV3d5G8h-rtF"
      },
      "execution_count": null,
      "outputs": []
    },
    {
      "cell_type": "code",
      "source": [
        "histo(imdb)                                            #count of runs (0,1,2,3,4,5,6) scorred on every balls"
      ],
      "metadata": {
        "id": "Dn4_jGVy-toF"
      },
      "execution_count": null,
      "outputs": []
    },
    {
      "cell_type": "code",
      "source": [
        "box(imdb)"
      ],
      "metadata": {
        "id": "oeC5V-DR-9Nc"
      },
      "execution_count": null,
      "outputs": []
    },
    {
      "cell_type": "code",
      "source": [
        "hist(M_D)"
      ],
      "metadata": {
        "id": "QnFvrw-6_Ap4"
      },
      "execution_count": null,
      "outputs": []
    },
    {
      "cell_type": "code",
      "source": [
        "countplot(M_D)"
      ],
      "metadata": {
        "id": "Rt5zvlzw_HNB"
      },
      "execution_count": null,
      "outputs": []
    },
    {
      "cell_type": "code",
      "source": [
        "barplot(imdb)"
      ],
      "metadata": {
        "id": "4-zB6JWe_MJU"
      },
      "execution_count": null,
      "outputs": []
    },
    {
      "cell_type": "code",
      "source": [
        "relplot(imdb)"
      ],
      "metadata": {
        "id": "UzeeMgla_lRg"
      },
      "execution_count": null,
      "outputs": []
    },
    {
      "cell_type": "markdown",
      "source": [
        "**5) Checking for Outliers using Boxplot**"
      ],
      "metadata": {
        "id": "c8Qh3CJeRWpA"
      }
    },
    {
      "cell_type": "code",
      "source": [
        "for column in imdb[['innings','overs','ballnumber','batsman_run','extras_run','total_run','non_boundary','isWicketDelivery']]:\n",
        "    plt.title(column)\n",
        "    sns.boxplot(data=imdb, x=column)\n",
        "    plt.show()"
      ],
      "metadata": {
        "id": "I63JTOanRgRE"
      },
      "execution_count": null,
      "outputs": []
    },
    {
      "cell_type": "code",
      "source": [
        "for column2 in M_D[['ID','Season','Margin']]:\n",
        "    plt.title(column2)\n",
        "    sns.boxplot(data=M_D, x=column2)\n",
        "    plt.show()"
      ],
      "metadata": {
        "id": "bezWn47zgULG"
      },
      "execution_count": null,
      "outputs": []
    },
    {
      "cell_type": "markdown",
      "source": [
        "**Team won by hightes Margin**"
      ],
      "metadata": {
        "id": "wumLErPhdD9X"
      }
    },
    {
      "cell_type": "code",
      "source": [
        "M_D.iloc[M_D['Margin'].idxmax()]"
      ],
      "metadata": {
        "id": "gaU5Rgd3fcX7"
      },
      "execution_count": null,
      "outputs": []
    },
    {
      "cell_type": "code",
      "source": [
        "M_D.iloc[M_D['Margin'].idxmin()]"
      ],
      "metadata": {
        "id": "vt5-BZT8xaih"
      },
      "execution_count": null,
      "outputs": []
    },
    {
      "cell_type": "code",
      "source": [
        "plt.figure(figsize=(35,20))\n",
        "sns.countplot(x ='WinningTeam', data= M_D, hue= 'Margin', palette= 'magma')\n"
      ],
      "metadata": {
        "id": "Vv4-nhk2vbdI"
      },
      "execution_count": null,
      "outputs": []
    },
    {
      "cell_type": "markdown",
      "source": [],
      "metadata": {
        "id": "19Iqn1g7hGI3"
      }
    },
    {
      "cell_type": "code",
      "source": [
        "sns.pairplot(imdb, palette=\"twilight\", corner=True);"
      ],
      "metadata": {
        "id": "ent_B5rcrlNM"
      },
      "execution_count": null,
      "outputs": []
    },
    {
      "cell_type": "code",
      "source": [
        "sns.pairplot(M_D)"
      ],
      "metadata": {
        "id": "FPGa4tIAhHIJ"
      },
      "execution_count": null,
      "outputs": []
    },
    {
      "cell_type": "code",
      "source": [
        "plt.figure(figsize=(20,7))\n",
        "plt.suptitle('Histograms of WinningTeam ', fontsize = 20)\n",
        "ax1 = sns.histplot(x = M_D['WinningTeam'],color= 'teal', bins= 15, kde= True, palette= 'crest')\n",
        "ax1.set(xlabel= 'WinningTeam', ylabel= 'Frequency')\n",
        "plt.tight_layout()\n",
        "plt.show()"
      ],
      "metadata": {
        "id": "QwkK8l6Utdte"
      },
      "execution_count": null,
      "outputs": []
    },
    {
      "cell_type": "markdown",
      "source": [
        "**7) Heatmap for correlation **"
      ],
      "metadata": {
        "id": "pLg-Zmwhf5pA"
      }
    },
    {
      "cell_type": "code",
      "source": [
        "def scatterprint(*args):\n",
        "    try: \n",
        "        plt.figure(figsize=(6,6))\n",
        "        sns.scatterplot(data = args[0], x=args[1], y=args[2], hue=\"liking\")\n",
        "    except Exception as e:\n",
        "        print(\"ERROR: \", str(e))\n",
        "        pass"
      ],
      "metadata": {
        "id": "5HhsbVg8fgvR"
      },
      "execution_count": null,
      "outputs": []
    },
    {
      "cell_type": "code",
      "source": [
        "plt.figure(figsize = (15,12))\n",
        "correlation=imdb.corr()\n",
        "sns.heatmap(correlation, annot=True,fmt='.2', cmap='YlOrRd')"
      ],
      "metadata": {
        "id": "33tDvEhJfvm7"
      },
      "execution_count": null,
      "outputs": []
    },
    {
      "cell_type": "markdown",
      "source": [
        "**Most IPL Runs by a Batsman**"
      ],
      "metadata": {
        "id": "9EDmtQVxojxR"
      }
    },
    {
      "cell_type": "code",
      "source": [
        "plt.figure(figsize=(10,8))\n",
        "data = imdb.groupby(['batter'])['batsman_run'].sum().sort_values(ascending=False)[:10]\n",
        "sns.barplot(y=data.index,x=data,orient='h')\n",
        "plt.xlabel('Runs')\n",
        "plt.ylabel('Batsman')\n",
        "plt.show()"
      ],
      "metadata": {
        "id": "UzcfSqAMn3Su"
      },
      "execution_count": null,
      "outputs": []
    },
    {
      "cell_type": "code",
      "source": [
        "Toss = M_D['TossWinner'] == M_D['WinningTeam']\n",
        "Toss.groupby(Toss).size()"
      ],
      "metadata": {
        "id": "H0cgU7h-ec-6"
      },
      "execution_count": null,
      "outputs": []
    },
    {
      "cell_type": "code",
      "source": [
        "sns.countplot(M_D['TossWinner'] == M_D['WinningTeam'])\n",
        "sns.countplot(Toss);"
      ],
      "metadata": {
        "id": "dm27urT_ePNK"
      },
      "execution_count": null,
      "outputs": []
    },
    {
      "cell_type": "code",
      "source": [
        "runs = imdb.groupby(['batter','ID'])['batsman_run'].sum()\n",
        "runs[runs >= 100].droplevel(level=1).groupby('batter').count().sort_values(ascending=False)[:10]"
      ],
      "metadata": {
        "id": "z49YesYSo04S"
      },
      "execution_count": null,
      "outputs": []
    },
    {
      "cell_type": "code",
      "source": [
        "plt.figure(figsize=(10,8))\n",
        "runs = imdb.groupby(['batter','ID'])['batsman_run'].sum()\n",
        "data = runs[runs >= 100].droplevel(level=1).groupby('batter').count().sort_values(ascending=False)[:10]\n",
        "sns.barplot(y=data.index,x=data,orient='h')\n",
        "plt.xlabel('Centuries')\n",
        "plt.ylabel('Batsman')\n",
        "plt.show()"
      ],
      "metadata": {
        "id": "NZ4UVNcapaB1"
      },
      "execution_count": null,
      "outputs": []
    },
    {
      "cell_type": "code",
      "source": [
        "imdb.hist(figsize=(10,15))\n",
        "plt.show()"
      ],
      "metadata": {
        "id": "ijoSMyM4iFNR"
      },
      "execution_count": null,
      "outputs": []
    },
    {
      "cell_type": "code",
      "source": [
        "sns.scatterplot(x =imdb['batsman_run'], y =imdb['total_run']);\n",
        "plt.title('BALL_BY_BALL')\n",
        "plt.show();"
      ],
      "metadata": {
        "id": "UdEO08TXkr0N"
      },
      "execution_count": null,
      "outputs": []
    },
    {
      "cell_type": "markdown",
      "source": [
        "**Merging Two Data set**"
      ],
      "metadata": {
        "id": "qVQ3eyMRhI1j"
      }
    },
    {
      "cell_type": "code",
      "source": [
        "result = pd.concat([imdb, M_D], axis=1, join='inner')\n",
        "display(result)\n",
        "result.head(2)"
      ],
      "metadata": {
        "id": "eeLPzl2Gf1b5"
      },
      "execution_count": null,
      "outputs": []
    },
    {
      "cell_type": "code",
      "source": [
        "M_D.WonBy.value_counts()"
      ],
      "metadata": {
        "id": "7V3Cf1UizVyx"
      },
      "execution_count": null,
      "outputs": []
    },
    {
      "cell_type": "code",
      "source": [
        "plt.figure(figsize=(6,6))\n",
        "sizes = result.WonBy.value_counts()\n",
        "labels = result.WonBy.value_counts().index\n",
        "plt.pie(sizes,colors = ['b','g','r'],\n",
        "         labels=labels,\n",
        "         autopct='%1.1f%%',\n",
        "         startangle=90,\n",
        "         pctdistance=0.75,\n",
        "         )\n",
        "\n",
        "#draw white circle\n",
        "centre_circle = plt.Circle((0,0),0.60,fc='white')\n",
        "fig = plt.gcf()\n",
        "fig.gca().add_artist(centre_circle)"
      ],
      "metadata": {
        "id": "mLmzgFJ5wzAj"
      },
      "execution_count": null,
      "outputs": []
    },
    {
      "cell_type": "markdown",
      "source": [
        "**Slicing of data**"
      ],
      "metadata": {
        "id": "L2ubuINLMXEa"
      }
    },
    {
      "cell_type": "code",
      "source": [
        "M_D['Player_of_Match'].to_frame().head()"
      ],
      "metadata": {
        "id": "veFweypVs-M7"
      },
      "execution_count": null,
      "outputs": []
    },
    {
      "cell_type": "code",
      "source": [
        "M_D.Player_of_Match.iloc[0:8]\n"
      ],
      "metadata": {
        "id": "7C_trGwi1h2t"
      },
      "execution_count": null,
      "outputs": []
    },
    {
      "cell_type": "markdown",
      "source": [
        "**Upload data to Numerical Python (NumPy)**"
      ],
      "metadata": {
        "id": "KiFEi0o-RIRY"
      }
    },
    {
      "cell_type": "code",
      "source": [
        "result1 = M_D.to_numpy()\n",
        "print(result1)\n"
      ],
      "metadata": {
        "id": "GCxlqGbMPYbq"
      },
      "execution_count": null,
      "outputs": []
    },
    {
      "cell_type": "code",
      "source": [
        "result2 = imdb.to_numpy()\n",
        "print(result2)"
      ],
      "metadata": {
        "id": "Sh3XpqJYPueE"
      },
      "execution_count": null,
      "outputs": []
    },
    {
      "cell_type": "markdown",
      "source": [
        "**Use conditions and segregate the data based on the condition (like show data of a feature(column) >,<,= a number)**"
      ],
      "metadata": {
        "id": "Gr9345vSRggz"
      }
    },
    {
      "cell_type": "code",
      "source": [
        "display(imdb.loc[(imdb['isWicketDelivery']>=1)])"
      ],
      "metadata": {
        "id": "fEmq93rWRi2f"
      },
      "execution_count": null,
      "outputs": []
    },
    {
      "cell_type": "code",
      "source": [
        "imdb.extras_run.value_counts()"
      ],
      "metadata": {
        "id": "fvwQJS9QlRf0"
      },
      "execution_count": null,
      "outputs": []
    },
    {
      "cell_type": "code",
      "source": [
        "mean(imdb.extras_run)"
      ],
      "metadata": {
        "id": "08a6lxlrgk95"
      },
      "execution_count": null,
      "outputs": []
    },
    {
      "cell_type": "code",
      "source": [
        "M_D.TossDecision.value_counts()"
      ],
      "metadata": {
        "id": "a6WKLUd3k7zO"
      },
      "execution_count": null,
      "outputs": []
    },
    {
      "cell_type": "code",
      "source": [
        "M_D = M_D.replace({'field': 0, 'bat': 1})\n",
        "mean(M_D.TossDecision)"
      ],
      "metadata": {
        "id": "TTGDX5iCmLL2"
      },
      "execution_count": null,
      "outputs": []
    },
    {
      "cell_type": "markdown",
      "source": [
        "**Avg Run by Teams in Powerplay**"
      ],
      "metadata": {
        "id": "4HM-emmMLbfi"
      }
    },
    {
      "cell_type": "code",
      "source": [
        "Avg=imdb[imdb['overs']<6].groupby(['ID','BattingTeam']).sum()['total_run'].groupby('BattingTeam').mean().sort_values(ascending=False)[2:]\n",
        "Avg"
      ],
      "metadata": {
        "id": "B4kU4YkfKuxn"
      },
      "execution_count": null,
      "outputs": []
    },
    {
      "cell_type": "code",
      "source": [
        "imdb.BattingTeam.value_counts()"
      ],
      "metadata": {
        "id": "F5p59P-tO3G9"
      },
      "execution_count": null,
      "outputs": []
    },
    {
      "cell_type": "code",
      "source": [
        "plt.figure(figsize=(6,6))\n",
        "sizes = imdb.BattingTeam.value_counts()\n",
        "labels = imdb.BattingTeam.value_counts().index\n",
        "plt.pie(sizes,colors = ['b','g','r'],\n",
        "         labels=labels,\n",
        "         autopct='%1.1f%%',\n",
        "         startangle=90,\n",
        "         pctdistance=0.75,\n",
        "         )\n",
        "\n",
        "#draw white circle\n",
        "centre_circle = plt.Circle((0,0),0.60,fc='white')\n",
        "fig = plt.gcf()\n",
        "fig.gca().add_artist(centre_circle)"
      ],
      "metadata": {
        "id": "OqiCTN4QOTZo"
      },
      "execution_count": null,
      "outputs": []
    }
  ]
}